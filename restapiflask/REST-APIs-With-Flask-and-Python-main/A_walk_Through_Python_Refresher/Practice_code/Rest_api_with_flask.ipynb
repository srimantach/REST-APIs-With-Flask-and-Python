{
  "nbformat": 4,
  "nbformat_minor": 0,
  "metadata": {
    "colab": {
      "name": "Rest_api_with_flask.ipynb",
      "provenance": [],
      "collapsed_sections": [],
      "authorship_tag": "ABX9TyNqssXB8w/CygI5AKMJb2/1",
      "include_colab_link": true
    },
    "kernelspec": {
      "name": "python3",
      "display_name": "Python 3"
    },
    "language_info": {
      "name": "python"
    }
  },
  "cells": [
    {
      "cell_type": "markdown",
      "metadata": {
        "id": "view-in-github",
        "colab_type": "text"
      },
      "source": [
        "<a href=\"https://colab.research.google.com/github/deepak-dewani/REST-APIs-With-Flask-and-Python/blob/main/Rest_api_with_flask.ipynb\" target=\"_parent\"><img src=\"https://colab.research.google.com/assets/colab-badge.svg\" alt=\"Open In Colab\"/></a>"
      ]
    },
    {
      "cell_type": "markdown",
      "source": [
        "variables"
      ],
      "metadata": {
        "id": "ne87Q_tKKvb0"
      }
    },
    {
      "cell_type": "code",
      "execution_count": null,
      "metadata": {
        "colab": {
          "base_uri": "https://localhost:8080/"
        },
        "id": "2u3NH-ROKheO",
        "outputId": "0f07531f-a29e-4b9a-90cd-0636276bebf9"
      },
      "outputs": [
        {
          "output_type": "stream",
          "name": "stdout",
          "text": [
            "5.24\n"
          ]
        }
      ],
      "source": [
        "# variables\n",
        "# assignments variables\n",
        "\n",
        "# int and float variable\n",
        "x = 50\n",
        "\n",
        "price = 6.55\n",
        "\n",
        "discount = 0.2\n",
        "\n",
        "result = price*(1 - discount)\n",
        "\n",
        "print(result)"
      ]
    },
    {
      "cell_type": "code",
      "source": [
        "# string variable\n",
        "\n",
        "name = 'deepak'\n",
        "\n",
        "name = \"deepak\"\n",
        "\n",
        "print(name)"
      ],
      "metadata": {
        "colab": {
          "base_uri": "https://localhost:8080/"
        },
        "id": "Cab8GWlwL4Yl",
        "outputId": "b392bb2d-3326-450e-ab5c-a828fa79154c"
      },
      "execution_count": null,
      "outputs": [
        {
          "output_type": "stream",
          "name": "stdout",
          "text": [
            "deepak\n"
          ]
        }
      ]
    },
    {
      "cell_type": "code",
      "source": [
        "name1 = name*2\n",
        "\n",
        "print(name1)"
      ],
      "metadata": {
        "colab": {
          "base_uri": "https://localhost:8080/"
        },
        "id": "WkoVZA16MbPJ",
        "outputId": "ce94bf88-5ab7-432c-b778-fca597443e6d"
      },
      "execution_count": null,
      "outputs": [
        {
          "output_type": "stream",
          "name": "stdout",
          "text": [
            "deepakdeepak\n"
          ]
        }
      ]
    },
    {
      "cell_type": "code",
      "source": [
        "a = 25\n",
        "b = a\n",
        "\n",
        "print(b)\n",
        "\n",
        "b = 17\n",
        "\n",
        "print(b)\n",
        "\n",
        "print(a)\n",
        "\n",
        "# the assignment don't change the other variable, if any changes made than it change to later variable only"
      ],
      "metadata": {
        "colab": {
          "base_uri": "https://localhost:8080/"
        },
        "id": "33YoMK6YMovI",
        "outputId": "ac31ee5c-78ab-4614-cc87-0347dbf0b62f"
      },
      "execution_count": null,
      "outputs": [
        {
          "output_type": "stream",
          "name": "stdout",
          "text": [
            "25\n",
            "17\n",
            "25\n"
          ]
        }
      ]
    },
    {
      "cell_type": "code",
      "source": [
        "# exerice 1\n",
        "# assigning the two variable with same value\n",
        "var1 = 52\n",
        "var2 = 52\n",
        "\n",
        "# two variable whose multiply give 16 as output\n",
        "num1 = 8\n",
        "num2 = 2\n",
        "\n",
        "print(num1*num2)"
      ],
      "metadata": {
        "colab": {
          "base_uri": "https://localhost:8080/"
        },
        "id": "5KRB-D13MxNE",
        "outputId": "0b33b1e7-9133-427c-b900-8a46bcd03415"
      },
      "execution_count": null,
      "outputs": [
        {
          "output_type": "stream",
          "name": "stdout",
          "text": [
            "16\n"
          ]
        }
      ]
    },
    {
      "cell_type": "code",
      "source": [
        "# string formatting\n",
        "\n",
        "name = \"ram\"\n",
        "\n",
        "greeting = \"Hello, ram\"\n",
        "\n",
        "print(greeting)\n",
        "\n",
        "# f- string\n",
        "name = \"ram\"\n",
        "\n",
        "greeting = f\"Hello, {name}\"\n",
        "\n",
        "print(greeting)\n",
        "\n",
        "name = 'sham'\n",
        "\n",
        "print(greeting)\n",
        "\n",
        "# string format does not change dynamically\n",
        "\n",
        "# so for this, use this\n",
        "\n",
        "name = \"bob\"\n",
        "\n",
        "print(f\"Hello, {name}\")\n",
        "\n",
        "\n",
        "name = \"sham\"\n",
        "\n",
        "print(f\"Hello, {name}\")\n",
        "\n",
        "# we can use . format\n",
        "\n",
        "name = \"rolf\"\n",
        "\n",
        "print(\"Hello, {}\".format(name))\n",
        "\n",
        "name = 'deepak'\n",
        "\n",
        "print(\"Hello, {}\".format(name))\n",
        "\n",
        "longer_phrase = \"Hello, {}. Welcome to {}\"\n",
        "\n",
        "print(longer_phrase.format(\"deepak\", \"bootcamp\"))\n"
      ],
      "metadata": {
        "colab": {
          "base_uri": "https://localhost:8080/"
        },
        "id": "ppZUSaoSNex3",
        "outputId": "606727e0-059a-4141-e831-1e89a10a6e2c"
      },
      "execution_count": null,
      "outputs": [
        {
          "output_type": "stream",
          "name": "stdout",
          "text": [
            "Hello, ram\n",
            "Hello, ram\n",
            "Hello, ram\n",
            "Hello, bob\n",
            "Hello, sham\n",
            "Hello, rolf\n",
            "Hello, deepak\n",
            "Hello, deepak. Welcome to bootcamp\n"
          ]
        }
      ]
    },
    {
      "cell_type": "markdown",
      "source": [
        "getting input from user"
      ],
      "metadata": {
        "id": "TR9_4dNOQDDC"
      }
    },
    {
      "cell_type": "code",
      "source": [
        "# we can use input()\n",
        "\n",
        "name = input(\"Enter your name: \")\n",
        "\n",
        "print(\"hello\", name)\n",
        "\n",
        "\n",
        "# change the input to int in order to have calculation for maths\n",
        "\n",
        "weight = int(input(\"Enter your weight in kg: \"))\n",
        "weight_in_gms = weight * 1000\n",
        "\n",
        "print(\"Your weight in gms is : {}\".format(weight_in_gms) )"
      ],
      "metadata": {
        "colab": {
          "base_uri": "https://localhost:8080/"
        },
        "id": "3qkP08saN69E",
        "outputId": "29de15f0-fb40-45a4-92f2-722ba3ee4e42"
      },
      "execution_count": null,
      "outputs": [
        {
          "output_type": "stream",
          "name": "stdout",
          "text": [
            "Enter your name: deepak\n",
            "hello deepak\n",
            "Enter your weight in kg: 56\n",
            "Your weight in gms is : 56000\n"
          ]
        }
      ]
    },
    {
      "cell_type": "code",
      "source": [
        "# writing our first program in python\n",
        "\n",
        "age = int(input(\"Enter your age: \"))\n",
        "age_month = age * 12\n",
        "print(f\"Your age, {age}, is equal to {age_month} months  \")\\\n",
        "\n",
        "age_second= age * 12 * 30 * 24 * 60 *60\n",
        "\n",
        "print(f\"your age, {age}, is equal to {age_month} months and {age_second} seconds \")\n",
        "\n",
        "\n",
        "\n"
      ],
      "metadata": {
        "colab": {
          "base_uri": "https://localhost:8080/"
        },
        "id": "mL-53pyYQPAn",
        "outputId": "5ee569d8-d19b-4523-eec2-1a9c57d31668"
      },
      "execution_count": null,
      "outputs": [
        {
          "output_type": "stream",
          "name": "stdout",
          "text": [
            "Enter your age: 27\n",
            "Your age, 27, is equal to 324 months  \n",
            "your age, 27, is equal to 324 months and 839808000 seconds \n"
          ]
        }
      ]
    },
    {
      "cell_type": "code",
      "source": [
        "# list, tuples, sets, dicts\n",
        "\n",
        "# mutable, different datatype, can access the element, allows duplicate variable\n",
        "lst = [\"bob\", \"rolf\", \"ganesh\"]\n",
        "\n",
        "print(lst[0])\n",
        "lst[1] = \"ram\"\n",
        "print(lst)\n",
        "\n",
        "#  immutable, different datatype, can access the element, allows duplicate variable\n",
        "tupl = (\"bob\", \"rofl\", \"ganesh\")\n",
        "print(tupl[1])\n",
        "# tupl[0] = \"sham\" # throw an error\n",
        "print(tupl)\n",
        "#  mutable, different datatype, can access the element,  doesn't allows duplicate variable\n",
        "set1 ={\"bob\", \"rofl\", \"ganesh\", \"bob\", \"rofl\"}\n",
        "print(set1)\n",
        "\n"
      ],
      "metadata": {
        "colab": {
          "base_uri": "https://localhost:8080/"
        },
        "id": "sRiW--P2SDu-",
        "outputId": "419d10c7-0bab-4392-c809-10fd68243f24"
      },
      "execution_count": null,
      "outputs": [
        {
          "output_type": "stream",
          "name": "stdout",
          "text": [
            "bob\n",
            "['bob', 'ram', 'ganesh']\n",
            "rofl\n",
            "('bob', 'rofl', 'ganesh')\n",
            "{'rofl', 'bob', 'ganesh'}\n"
          ]
        }
      ]
    },
    {
      "cell_type": "code",
      "source": [
        "# advance set operations\n",
        "\n",
        "friends = {'bob', 'rofl', 'ganesh'}\n",
        "local_friend = {'ganesh'}\n",
        "\n",
        "# difference function\n",
        "abroad = friends.difference(local_friend)\n",
        "print(abroad)\n",
        "\n",
        "# union function\n",
        "set1 = {'bob', 'rofl', 'ganesh'}\n",
        "set2 = {'ram', 'tina'}\n",
        "\n",
        "total = set1.union(set2)\n",
        "print(total)\n",
        "\n",
        "\n",
        "# intersection function\n",
        "art = {'tina', 'bob', 'ram', 'rofl', 'ganesh'}\n",
        "science = {'rofl', 'bob', 'sham', 'deepak'}\n",
        "\n",
        "both = art.intersection(science)\n",
        "print(both)"
      ],
      "metadata": {
        "colab": {
          "base_uri": "https://localhost:8080/"
        },
        "id": "fiGOIBS6V3pj",
        "outputId": "aa05b557-cf0b-400d-d587-51ae8697e57a"
      },
      "execution_count": null,
      "outputs": [
        {
          "output_type": "stream",
          "name": "stdout",
          "text": [
            "{'rofl', 'bob'}\n",
            "{'tina', 'bob', 'ram', 'rofl', 'ganesh'}\n",
            "{'rofl', 'bob'}\n"
          ]
        }
      ]
    },
    {
      "cell_type": "code",
      "source": [
        "# exercise 2 \n",
        "\n",
        "# list with three number to get the sum as 100\n",
        "\n",
        "my_list = [20, 65, 15]\n",
        "\n",
        "# tuple with one single value\n",
        "\n",
        "my_tuple= ('5',)\n",
        "\n",
        "# intersection \n",
        "set1 = {14, 5 ,9, 31, 12, 77, 67, 8}\n",
        "set2 = {5, 77, 9, 12}\n",
        "\n",
        "set3 = set1.intersection(set2)\n",
        "print(set3)"
      ],
      "metadata": {
        "colab": {
          "base_uri": "https://localhost:8080/"
        },
        "id": "DXkQWDmBXbWz",
        "outputId": "8f08b4a5-9667-49fd-856d-889677099677"
      },
      "execution_count": null,
      "outputs": [
        {
          "output_type": "stream",
          "name": "stdout",
          "text": [
            "{9, 5, 12, 77}\n"
          ]
        }
      ]
    },
    {
      "cell_type": "code",
      "source": [
        "# Boolean in python\n",
        "# output comes in true or false, used to give comparison and give output\n",
        "print(15 == 15)\n",
        "print(5 > 4)\n",
        "print(100 < 55)\n",
        "\n",
        "# can use comparsion operator ==, !=, <=, >=, and so on"
      ],
      "metadata": {
        "colab": {
          "base_uri": "https://localhost:8080/"
        },
        "id": "VooC6_CdaMOz",
        "outputId": "ad22f35a-cff4-43b4-d7aa-46f04c33896a"
      },
      "execution_count": null,
      "outputs": [
        {
          "output_type": "stream",
          "name": "stdout",
          "text": [
            "True\n",
            "True\n",
            "False\n"
          ]
        }
      ]
    },
    {
      "cell_type": "code",
      "source": [
        "# if statements\n",
        "\n",
        "day_of_week =input(\"What day of the week is it today?\").lower()\n",
        "\n",
        "\n",
        "if day_of_week == \"monday\":\n",
        "  print(\"Have a great start of week!\")\n",
        "elif day_of_week == \"tuesday\":\n",
        "  print(\"Its Tuesday\")\n",
        "else:\n",
        "  print(\"full speed ahead\")\n",
        "\n",
        "print(\"Go on\")"
      ],
      "metadata": {
        "colab": {
          "base_uri": "https://localhost:8080/"
        },
        "id": "QegRmZv4adMH",
        "outputId": "4a3ef8af-5f32-4158-b683-c56f619a47c8"
      },
      "execution_count": null,
      "outputs": [
        {
          "output_type": "stream",
          "name": "stdout",
          "text": [
            "What day of the week is it today?Monday\n",
            "Have a great start of week!\n",
            "Go on\n"
          ]
        }
      ]
    },
    {
      "cell_type": "code",
      "source": [
        "# in keyword \n",
        "\n",
        "# check for the list, tuple\n",
        "science = {'rofl', 'bob', 'sham', 'deepak'}\n",
        "\n",
        "print('rofl' in science)\n",
        "\n",
        "fruits = ['apple', 'mango', 'banana', 'watermelon']\n",
        "user_fruit = input(\"enter your fruit name: \")\n",
        "\n",
        "print(user_fruit in fruits)"
      ],
      "metadata": {
        "colab": {
          "base_uri": "https://localhost:8080/"
        },
        "id": "SstBYRjxb0B5",
        "outputId": "4da89db7-cbb8-4b40-9ac9-007df0072b77"
      },
      "execution_count": null,
      "outputs": [
        {
          "output_type": "stream",
          "name": "stdout",
          "text": [
            "True\n",
            "enter your fruit name: apple\n",
            "True\n"
          ]
        }
      ]
    },
    {
      "cell_type": "code",
      "source": [
        "# if and in statements\n",
        "fruits = ['apple', 'mango', 'banana', 'watermelon']\n",
        "user_fruit = input(\"enter your fruit name: \")\n",
        "\n",
        "if user_fruit in fruits:\n",
        "  print(f\"I also like {user_fruit} also\")\n",
        "else:\n",
        "  print(f\"I would love to have {user_fruit}\")\n",
        "\n",
        "\n",
        "\n",
        "# another example\n",
        "\n",
        "number = 7\n",
        "user_input = input(\"Enter 'y' if you want to continue: \").lower()\n",
        "\n",
        "if user_input == 'y':\n",
        "  user_number = int(input(\"Enter your number\"))\n",
        "  if user_number == number:\n",
        "    print(\"Your guess is right\")\n",
        "  elif abs(number - user_number)== 1:\n",
        "    print(\"you are off by one\")\n",
        "  else:\n",
        "    print(\"sorry, Nice try\")\n",
        "\n",
        "print(\"Thankyou for playing\")\n"
      ],
      "metadata": {
        "colab": {
          "base_uri": "https://localhost:8080/"
        },
        "id": "E92TPM-ddSbI",
        "outputId": "7530890f-b3af-4214-88e9-e33d9498cf33"
      },
      "execution_count": null,
      "outputs": [
        {
          "output_type": "stream",
          "name": "stdout",
          "text": [
            "enter your fruit name: apple\n",
            "I also like apple also\n",
            "Enter 'y' if you want to continue: y\n",
            "Enter your number9\n",
            "sorry, Nice try\n",
            "Thankyou for playing\n"
          ]
        }
      ]
    },
    {
      "cell_type": "code",
      "source": [
        "# Loops in python\n",
        "\n",
        "# repeat loop - while \n",
        "# definite loop - for loop\n",
        "\n",
        "number = 7\n",
        "\n",
        "\n",
        "while True:\n",
        "\n",
        "  user_input = input(\"Would you like to play? (Y/n)\")\n",
        "\n",
        "  if user_input == \"n\":\n",
        "    break\n",
        "\n",
        "  user_number = int(input(\"Enter your number\"))\n",
        "  if user_number == number:\n",
        "    print(\"Your guess is right\")\n",
        "    break\n",
        "  elif abs(number - user_number)== 1:\n",
        "    print(\"you are off by one\")\n",
        "  else:\n",
        "    print(\"sorry, Nice try\")\n",
        "\n",
        "print(\"Thankyou for playing\")"
      ],
      "metadata": {
        "colab": {
          "base_uri": "https://localhost:8080/"
        },
        "id": "p6MxOo60ltAn",
        "outputId": "c966d8d7-c4a0-4ab1-9f75-835004e6c503"
      },
      "execution_count": null,
      "outputs": [
        {
          "output_type": "stream",
          "name": "stdout",
          "text": [
            "Would you like to play? (Y/n)y\n",
            "Enter your number9\n",
            "sorry, Nice try\n",
            "Would you like to play? (Y/n)y5\n",
            "Enter your number5\n",
            "sorry, Nice try\n",
            "Would you like to play? (Y/n)y\n",
            "Enter your number7\n",
            "Your guess is right\n",
            "Thankyou for playing\n"
          ]
        }
      ]
    },
    {
      "cell_type": "code",
      "source": [
        "# for loops \n",
        "\n",
        "fruits = ['apple', 'mango', 'banana', 'watermelon']\n",
        "\n",
        "for fruit in fruits:\n",
        "  print(fruit)\n",
        "\n",
        "for fruit in range(4):\n",
        "  print(fruit)\n",
        "\n",
        "marks = [65, 55, 90, 75, 60]\n",
        "total = 0\n",
        "amount = len(marks)\n",
        "\n",
        "for mark in marks:\n",
        "  total = total + mark\n",
        "\n",
        "print(total / amount)\n"
      ],
      "metadata": {
        "colab": {
          "base_uri": "https://localhost:8080/"
        },
        "id": "NxoFK5rboz0Q",
        "outputId": "8e22a870-ac6b-48f9-8260-16030a749f7b"
      },
      "execution_count": null,
      "outputs": [
        {
          "output_type": "stream",
          "name": "stdout",
          "text": [
            "apple\n",
            "mango\n",
            "banana\n",
            "watermelon\n",
            "0\n",
            "1\n",
            "2\n",
            "3\n",
            "69.0\n"
          ]
        }
      ]
    },
    {
      "cell_type": "code",
      "source": [
        "# list comprehension\n",
        "# traditional way\n",
        "lst = [1,2,3,4,5]\n",
        "double = []\n",
        "\n",
        "for num in lst:\n",
        "  double.append(num**2)\n",
        "\n",
        "print(double)\n",
        "\n",
        "# another way\n",
        "\n",
        "lst3 = [1, 3, 5, 7]\n",
        "\n",
        "lst4 = [x**2 for x in lst3]\n",
        "\n",
        "print(lst4)\n",
        "\n",
        "\n",
        "\n",
        "fruits = ['apple', 'mango', 'banana', 'watermelon', 'berry']\n",
        "starts_b = [fruit for fruit in fruits if fruit.startswith(\"b\")]\n",
        "\n",
        "print(starts_b)"
      ],
      "metadata": {
        "colab": {
          "base_uri": "https://localhost:8080/"
        },
        "id": "plvYBKCyp0iZ",
        "outputId": "748151d6-1025-40af-bf24-eca70b36622d"
      },
      "execution_count": null,
      "outputs": [
        {
          "output_type": "stream",
          "name": "stdout",
          "text": [
            "[1, 4, 9, 16, 25]\n",
            "[1, 9, 25, 49]\n",
            "['banana', 'berry']\n"
          ]
        }
      ]
    },
    {
      "cell_type": "code",
      "source": [
        "# Dictonaries\n",
        "# stored in keys and values\n",
        "\n",
        "friend_ages = {'ram' : 25, 'rolf': 24, \"adam\": 55}\n",
        "\n",
        "friend_ages[\"adam\"]\n",
        "\n",
        "friend_ages[\"adam\"] = 20\n",
        "\n",
        "print(friend_ages)\n",
        "\n"
      ],
      "metadata": {
        "colab": {
          "base_uri": "https://localhost:8080/"
        },
        "id": "4PN5O1mOsDRd",
        "outputId": "b5a3eab7-b33e-48da-9025-8fbd3b228501"
      },
      "execution_count": null,
      "outputs": [
        {
          "output_type": "stream",
          "name": "stdout",
          "text": [
            "{'ram': 25, 'rolf': 24, 'adam': 20}\n"
          ]
        }
      ]
    },
    {
      "cell_type": "code",
      "source": [
        "x = 5\n",
        "y = 15\n",
        "\n",
        "x, y"
      ],
      "metadata": {
        "id": "7FSgBRXIui9A"
      },
      "execution_count": null,
      "outputs": []
    }
  ]
}